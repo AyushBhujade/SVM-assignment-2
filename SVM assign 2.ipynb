{
 "cells": [
  {
   "cell_type": "markdown",
   "id": "40739cdc-f5c6-4fcd-9643-bc48a8c7e1a6",
   "metadata": {},
   "source": [
    "# Quation 1"
   ]
  },
  {
   "cell_type": "markdown",
   "id": "9d6cf141-d455-4496-983a-a4960997e8d3",
   "metadata": {},
   "source": [
    "In machine learning algorithms, particularly in Support Vector Machines (SVMs), the relationship between a polynomial function and a kernel function lies in how the kernel function implicitly captures the non-linear relationships in the data without explicitly transforming the features.\n",
    "\n",
    "A polynomial function is a type of mathematical function that involves powers of a variable raised to non-negative integer exponents. In the context of SVM, a polynomial kernel is a specific type of kernel function that computes the dot product of transformed feature vectors without explicitly calculating the transformation."
   ]
  },
  {
   "cell_type": "markdown",
   "id": "61d2eeb1-c89c-4c67-a9ef-876da7d65c6d",
   "metadata": {},
   "source": [
    "# Quation 2"
   ]
  },
  {
   "cell_type": "markdown",
   "id": "d5ee17d1-658e-4ad9-9241-0e6e71d8399e",
   "metadata": {},
   "source": [
    "using scikit learn library \n",
    "\n",
    "from sklearn.svm import SVC\n",
    "\n",
    "clf=SVC(kernel='polynomial')"
   ]
  },
  {
   "cell_type": "markdown",
   "id": "6acf9db4-96cc-4b46-bbab-daccda0b4edf",
   "metadata": {},
   "source": [
    "# Quation 3"
   ]
  },
  {
   "cell_type": "markdown",
   "id": "a4927260-1ab6-4c75-a9c0-ae3c4ef556b0",
   "metadata": {},
   "source": [
    "In Support Vector Regression (SVR), epsilon (ε) is a parameter that defines the width of the epsilon-insensitive tube. The epsilon-insensitive tube is a range around the predicted values where errors are ignored, and the model is considered accurate. The tube's width is determined by the epsilon parameter.\n",
    "\n",
    "Increasing the value of epsilon in SVR generally leads to an increase in the number of support vectors. The reason for this lies in the trade-off between model complexity and the width of the tube.\n",
    "\n",
    "Here's the intuition:\n",
    "\n",
    "Smaller Epsilon:\n",
    "A smaller epsilon creates a narrow epsilon-insensitive tube, meaning the model is less tolerant to errors.\n",
    "This can result in a more complex model that tries to fit the training data precisely, potentially leading to fewer support vectors.\n",
    "\n",
    "Larger Epsilon:\n",
    "A larger epsilon creates a wider epsilon-insensitive tube, allowing for more errors within this range without affecting the model's\n",
    "performance.\n",
    "a more relaxed model may have a larger margin accepting more points within the tube as support vector.\n",
    "\n"
   ]
  },
  {
   "cell_type": "markdown",
   "id": "ec7711fa-f716-4020-95e2-5a562aa02dfc",
   "metadata": {},
   "source": [
    "# Quation 4"
   ]
  },
  {
   "cell_type": "markdown",
   "id": "f7e1a4cd-49e6-4dfa-83bd-e504f8a7606f",
   "metadata": {},
   "source": [
    "kernel Function :\n",
    "                Role: the kernel function determine the type of transformation applied to the input feature common kernel\n",
    "                      include linear,polynomial,and radial basis function\n",
    "                impact: the choice of the kernel affects the model ability to capture non linear patterns in the data.\n",
    "                example: use an RBF kernel for complex, non linear relationship choes a linear kernel for linear relationship.\n",
    "                \n",
    "C Parameter:\n",
    "            Role: the regularization parameter c controls the trade off between fitting the training data and having a smooth decision boundry\n",
    "            impact: smaller c result in a smmother decision boundry with more training error allowed, while larger c value make the decision boundry \n",
    "            closly fit the training data\n",
    "\n",
    "Epsilon Parameter (ε):\n",
    "                    Role: Epsilon defines the width of the epsilon-insensitive tube, where errors are tolerated.\n",
    "                    Impact: Smaller ε values make the model less tolerant to errors, leading to a potentially more complex model; larger ε values\n",
    "                    create a wider margin and a more relaxed model.\n",
    "                    Example: Use a smaller ε for precise fitting to training data; use a larger ε for a more flexible model.\n",
    "\n",
    "Gamma Parameter:\n",
    "                Role: Gamma controls the influence of a single training point, affecting the shape of the decision boundary. It is crucial for RBF\n",
    "                kernel.\n",
    "                Impact: Smaller gamma values result in a broader influence, while larger gamma values make the decision boundary more focused on \n",
    "                individual points.\n",
    "                Example: Use a smaller gamma for smoother decision boundaries; use a larger gamma for more intricate decision boundaries, especially \n",
    "                with RBF kernel.\n"
   ]
  },
  {
   "cell_type": "markdown",
   "id": "268e28f1-ce5b-4c23-aeb3-7bf7d4ee04a5",
   "metadata": {},
   "source": [
    "# Quation 5 Assignment"
   ]
  },
  {
   "cell_type": "code",
   "execution_count": null,
   "id": "0d07ae7f-d5bb-4779-abdb-76c33ee77514",
   "metadata": {},
   "outputs": [],
   "source": []
  },
  {
   "cell_type": "code",
   "execution_count": 1,
   "id": "3f61bb0c-9bc9-4562-b357-ad56d556eee9",
   "metadata": {},
   "outputs": [],
   "source": [
    "import pandas as pd\n",
    "import numpy as np\n",
    "import seaborn as sns\n",
    "import matplotlib.pyplot as plt\n",
    "%matplotlib inline"
   ]
  },
  {
   "cell_type": "code",
   "execution_count": null,
   "id": "66c8034c-b357-4b62-8713-2d609fe4fe1c",
   "metadata": {},
   "outputs": [],
   "source": []
  },
  {
   "cell_type": "code",
   "execution_count": 2,
   "id": "36507fe2-155b-49d7-920a-b84014df753e",
   "metadata": {},
   "outputs": [
    {
     "data": {
      "text/html": [
       "<div>\n",
       "<style scoped>\n",
       "    .dataframe tbody tr th:only-of-type {\n",
       "        vertical-align: middle;\n",
       "    }\n",
       "\n",
       "    .dataframe tbody tr th {\n",
       "        vertical-align: top;\n",
       "    }\n",
       "\n",
       "    .dataframe thead th {\n",
       "        text-align: right;\n",
       "    }\n",
       "</style>\n",
       "<table border=\"1\" class=\"dataframe\">\n",
       "  <thead>\n",
       "    <tr style=\"text-align: right;\">\n",
       "      <th></th>\n",
       "      <th>Age</th>\n",
       "      <th>Gender</th>\n",
       "      <th>TB</th>\n",
       "      <th>DB</th>\n",
       "      <th>Alkphos</th>\n",
       "      <th>Sgpt</th>\n",
       "      <th>Sgot</th>\n",
       "      <th>TP</th>\n",
       "      <th>ALB</th>\n",
       "      <th>A/G Ratio</th>\n",
       "      <th>Selector</th>\n",
       "    </tr>\n",
       "  </thead>\n",
       "  <tbody>\n",
       "    <tr>\n",
       "      <th>0</th>\n",
       "      <td>65</td>\n",
       "      <td>Female</td>\n",
       "      <td>0.7</td>\n",
       "      <td>0.1</td>\n",
       "      <td>187</td>\n",
       "      <td>16</td>\n",
       "      <td>18</td>\n",
       "      <td>6.8</td>\n",
       "      <td>3.3</td>\n",
       "      <td>0.90</td>\n",
       "      <td>1</td>\n",
       "    </tr>\n",
       "    <tr>\n",
       "      <th>1</th>\n",
       "      <td>62</td>\n",
       "      <td>Male</td>\n",
       "      <td>10.9</td>\n",
       "      <td>5.5</td>\n",
       "      <td>699</td>\n",
       "      <td>64</td>\n",
       "      <td>100</td>\n",
       "      <td>7.5</td>\n",
       "      <td>3.2</td>\n",
       "      <td>0.74</td>\n",
       "      <td>1</td>\n",
       "    </tr>\n",
       "    <tr>\n",
       "      <th>2</th>\n",
       "      <td>62</td>\n",
       "      <td>Male</td>\n",
       "      <td>7.3</td>\n",
       "      <td>4.1</td>\n",
       "      <td>490</td>\n",
       "      <td>60</td>\n",
       "      <td>68</td>\n",
       "      <td>7.0</td>\n",
       "      <td>3.3</td>\n",
       "      <td>0.89</td>\n",
       "      <td>1</td>\n",
       "    </tr>\n",
       "    <tr>\n",
       "      <th>3</th>\n",
       "      <td>58</td>\n",
       "      <td>Male</td>\n",
       "      <td>1.0</td>\n",
       "      <td>0.4</td>\n",
       "      <td>182</td>\n",
       "      <td>14</td>\n",
       "      <td>20</td>\n",
       "      <td>6.8</td>\n",
       "      <td>3.4</td>\n",
       "      <td>1.00</td>\n",
       "      <td>1</td>\n",
       "    </tr>\n",
       "    <tr>\n",
       "      <th>4</th>\n",
       "      <td>72</td>\n",
       "      <td>Male</td>\n",
       "      <td>3.9</td>\n",
       "      <td>2.0</td>\n",
       "      <td>195</td>\n",
       "      <td>27</td>\n",
       "      <td>59</td>\n",
       "      <td>7.3</td>\n",
       "      <td>2.4</td>\n",
       "      <td>0.40</td>\n",
       "      <td>1</td>\n",
       "    </tr>\n",
       "  </tbody>\n",
       "</table>\n",
       "</div>"
      ],
      "text/plain": [
       "   Age  Gender    TB   DB  Alkphos  Sgpt  Sgot   TP  ALB  A/G Ratio  Selector\n",
       "0   65  Female   0.7  0.1      187    16    18  6.8  3.3       0.90         1\n",
       "1   62    Male  10.9  5.5      699    64   100  7.5  3.2       0.74         1\n",
       "2   62    Male   7.3  4.1      490    60    68  7.0  3.3       0.89         1\n",
       "3   58    Male   1.0  0.4      182    14    20  6.8  3.4       1.00         1\n",
       "4   72    Male   3.9  2.0      195    27    59  7.3  2.4       0.40         1"
      ]
     },
     "execution_count": 2,
     "metadata": {},
     "output_type": "execute_result"
    }
   ],
   "source": [
    "df=pd.read_csv('Indian Liver Patient Dataset (ILPD).csv')\n",
    "df.head()"
   ]
  },
  {
   "cell_type": "code",
   "execution_count": 3,
   "id": "c9d04385-921e-4976-aa2d-d263df539e40",
   "metadata": {},
   "outputs": [
    {
     "data": {
      "text/plain": [
       "Age          0\n",
       "Gender       0\n",
       "TB           0\n",
       "DB           0\n",
       "Alkphos      0\n",
       "Sgpt         0\n",
       "Sgot         0\n",
       "TP           0\n",
       "ALB          0\n",
       "A/G Ratio    4\n",
       "Selector     0\n",
       "dtype: int64"
      ]
     },
     "execution_count": 3,
     "metadata": {},
     "output_type": "execute_result"
    }
   ],
   "source": [
    "df.isnull().sum()"
   ]
  },
  {
   "cell_type": "code",
   "execution_count": 4,
   "id": "680ec7dd-b246-4507-8b99-7a6ce99220ab",
   "metadata": {},
   "outputs": [
    {
     "data": {
      "text/plain": [
       "Age          0\n",
       "Gender       0\n",
       "TB           0\n",
       "DB           0\n",
       "Alkphos      0\n",
       "Sgpt         0\n",
       "Sgot         0\n",
       "TP           0\n",
       "ALB          0\n",
       "A/G Ratio    0\n",
       "Selector     0\n",
       "dtype: int64"
      ]
     },
     "execution_count": 4,
     "metadata": {},
     "output_type": "execute_result"
    }
   ],
   "source": [
    "df.dropna(inplace=True)\n",
    "df.isnull().sum()"
   ]
  },
  {
   "cell_type": "code",
   "execution_count": 5,
   "id": "d491bc4f-147e-4d79-9096-e0ea4db5082e",
   "metadata": {},
   "outputs": [
    {
     "data": {
      "text/html": [
       "<div>\n",
       "<style scoped>\n",
       "    .dataframe tbody tr th:only-of-type {\n",
       "        vertical-align: middle;\n",
       "    }\n",
       "\n",
       "    .dataframe tbody tr th {\n",
       "        vertical-align: top;\n",
       "    }\n",
       "\n",
       "    .dataframe thead th {\n",
       "        text-align: right;\n",
       "    }\n",
       "</style>\n",
       "<table border=\"1\" class=\"dataframe\">\n",
       "  <thead>\n",
       "    <tr style=\"text-align: right;\">\n",
       "      <th></th>\n",
       "      <th>Age</th>\n",
       "      <th>Gender</th>\n",
       "      <th>TB</th>\n",
       "      <th>DB</th>\n",
       "      <th>Alkphos</th>\n",
       "      <th>Sgpt</th>\n",
       "      <th>Sgot</th>\n",
       "      <th>TP</th>\n",
       "      <th>ALB</th>\n",
       "      <th>A/G Ratio</th>\n",
       "      <th>Selector</th>\n",
       "    </tr>\n",
       "  </thead>\n",
       "  <tbody>\n",
       "    <tr>\n",
       "      <th>19</th>\n",
       "      <td>40</td>\n",
       "      <td>Female</td>\n",
       "      <td>0.9</td>\n",
       "      <td>0.3</td>\n",
       "      <td>293</td>\n",
       "      <td>232</td>\n",
       "      <td>245</td>\n",
       "      <td>6.8</td>\n",
       "      <td>3.1</td>\n",
       "      <td>0.80</td>\n",
       "      <td>1</td>\n",
       "    </tr>\n",
       "    <tr>\n",
       "      <th>26</th>\n",
       "      <td>34</td>\n",
       "      <td>Male</td>\n",
       "      <td>4.1</td>\n",
       "      <td>2.0</td>\n",
       "      <td>289</td>\n",
       "      <td>875</td>\n",
       "      <td>731</td>\n",
       "      <td>5.0</td>\n",
       "      <td>2.7</td>\n",
       "      <td>1.10</td>\n",
       "      <td>1</td>\n",
       "    </tr>\n",
       "    <tr>\n",
       "      <th>34</th>\n",
       "      <td>38</td>\n",
       "      <td>Female</td>\n",
       "      <td>2.6</td>\n",
       "      <td>1.2</td>\n",
       "      <td>410</td>\n",
       "      <td>59</td>\n",
       "      <td>57</td>\n",
       "      <td>5.6</td>\n",
       "      <td>3.0</td>\n",
       "      <td>0.80</td>\n",
       "      <td>2</td>\n",
       "    </tr>\n",
       "    <tr>\n",
       "      <th>55</th>\n",
       "      <td>42</td>\n",
       "      <td>Male</td>\n",
       "      <td>8.9</td>\n",
       "      <td>4.5</td>\n",
       "      <td>272</td>\n",
       "      <td>31</td>\n",
       "      <td>61</td>\n",
       "      <td>5.8</td>\n",
       "      <td>2.0</td>\n",
       "      <td>0.50</td>\n",
       "      <td>1</td>\n",
       "    </tr>\n",
       "    <tr>\n",
       "      <th>62</th>\n",
       "      <td>58</td>\n",
       "      <td>Male</td>\n",
       "      <td>1.0</td>\n",
       "      <td>0.5</td>\n",
       "      <td>158</td>\n",
       "      <td>37</td>\n",
       "      <td>43</td>\n",
       "      <td>7.2</td>\n",
       "      <td>3.6</td>\n",
       "      <td>1.00</td>\n",
       "      <td>1</td>\n",
       "    </tr>\n",
       "    <tr>\n",
       "      <th>106</th>\n",
       "      <td>36</td>\n",
       "      <td>Male</td>\n",
       "      <td>5.3</td>\n",
       "      <td>2.3</td>\n",
       "      <td>145</td>\n",
       "      <td>32</td>\n",
       "      <td>92</td>\n",
       "      <td>5.1</td>\n",
       "      <td>2.6</td>\n",
       "      <td>1.00</td>\n",
       "      <td>2</td>\n",
       "    </tr>\n",
       "    <tr>\n",
       "      <th>108</th>\n",
       "      <td>36</td>\n",
       "      <td>Male</td>\n",
       "      <td>0.8</td>\n",
       "      <td>0.2</td>\n",
       "      <td>158</td>\n",
       "      <td>29</td>\n",
       "      <td>39</td>\n",
       "      <td>6.0</td>\n",
       "      <td>2.2</td>\n",
       "      <td>0.50</td>\n",
       "      <td>2</td>\n",
       "    </tr>\n",
       "    <tr>\n",
       "      <th>138</th>\n",
       "      <td>18</td>\n",
       "      <td>Male</td>\n",
       "      <td>0.8</td>\n",
       "      <td>0.2</td>\n",
       "      <td>282</td>\n",
       "      <td>72</td>\n",
       "      <td>140</td>\n",
       "      <td>5.5</td>\n",
       "      <td>2.5</td>\n",
       "      <td>0.80</td>\n",
       "      <td>1</td>\n",
       "    </tr>\n",
       "    <tr>\n",
       "      <th>143</th>\n",
       "      <td>30</td>\n",
       "      <td>Male</td>\n",
       "      <td>1.6</td>\n",
       "      <td>0.4</td>\n",
       "      <td>332</td>\n",
       "      <td>84</td>\n",
       "      <td>139</td>\n",
       "      <td>5.6</td>\n",
       "      <td>2.7</td>\n",
       "      <td>0.90</td>\n",
       "      <td>1</td>\n",
       "    </tr>\n",
       "    <tr>\n",
       "      <th>158</th>\n",
       "      <td>72</td>\n",
       "      <td>Male</td>\n",
       "      <td>0.7</td>\n",
       "      <td>0.1</td>\n",
       "      <td>196</td>\n",
       "      <td>20</td>\n",
       "      <td>35</td>\n",
       "      <td>5.8</td>\n",
       "      <td>2.0</td>\n",
       "      <td>0.50</td>\n",
       "      <td>1</td>\n",
       "    </tr>\n",
       "    <tr>\n",
       "      <th>164</th>\n",
       "      <td>39</td>\n",
       "      <td>Male</td>\n",
       "      <td>1.9</td>\n",
       "      <td>0.9</td>\n",
       "      <td>180</td>\n",
       "      <td>42</td>\n",
       "      <td>62</td>\n",
       "      <td>7.4</td>\n",
       "      <td>4.3</td>\n",
       "      <td>1.38</td>\n",
       "      <td>1</td>\n",
       "    </tr>\n",
       "    <tr>\n",
       "      <th>174</th>\n",
       "      <td>31</td>\n",
       "      <td>Male</td>\n",
       "      <td>0.6</td>\n",
       "      <td>0.1</td>\n",
       "      <td>175</td>\n",
       "      <td>48</td>\n",
       "      <td>34</td>\n",
       "      <td>6.0</td>\n",
       "      <td>3.7</td>\n",
       "      <td>1.60</td>\n",
       "      <td>1</td>\n",
       "    </tr>\n",
       "    <tr>\n",
       "      <th>201</th>\n",
       "      <td>49</td>\n",
       "      <td>Male</td>\n",
       "      <td>0.6</td>\n",
       "      <td>0.1</td>\n",
       "      <td>218</td>\n",
       "      <td>50</td>\n",
       "      <td>53</td>\n",
       "      <td>5.0</td>\n",
       "      <td>2.4</td>\n",
       "      <td>0.90</td>\n",
       "      <td>1</td>\n",
       "    </tr>\n",
       "  </tbody>\n",
       "</table>\n",
       "</div>"
      ],
      "text/plain": [
       "     Age  Gender   TB   DB  Alkphos  Sgpt  Sgot   TP  ALB  A/G Ratio  Selector\n",
       "19    40  Female  0.9  0.3      293   232   245  6.8  3.1       0.80         1\n",
       "26    34    Male  4.1  2.0      289   875   731  5.0  2.7       1.10         1\n",
       "34    38  Female  2.6  1.2      410    59    57  5.6  3.0       0.80         2\n",
       "55    42    Male  8.9  4.5      272    31    61  5.8  2.0       0.50         1\n",
       "62    58    Male  1.0  0.5      158    37    43  7.2  3.6       1.00         1\n",
       "106   36    Male  5.3  2.3      145    32    92  5.1  2.6       1.00         2\n",
       "108   36    Male  0.8  0.2      158    29    39  6.0  2.2       0.50         2\n",
       "138   18    Male  0.8  0.2      282    72   140  5.5  2.5       0.80         1\n",
       "143   30    Male  1.6  0.4      332    84   139  5.6  2.7       0.90         1\n",
       "158   72    Male  0.7  0.1      196    20    35  5.8  2.0       0.50         1\n",
       "164   39    Male  1.9  0.9      180    42    62  7.4  4.3       1.38         1\n",
       "174   31    Male  0.6  0.1      175    48    34  6.0  3.7       1.60         1\n",
       "201   49    Male  0.6  0.1      218    50    53  5.0  2.4       0.90         1"
      ]
     },
     "execution_count": 5,
     "metadata": {},
     "output_type": "execute_result"
    }
   ],
   "source": [
    "df[df.duplicated()]"
   ]
  },
  {
   "cell_type": "code",
   "execution_count": 6,
   "id": "82ff1b32-81ad-4fd2-abad-7da0978a7aff",
   "metadata": {},
   "outputs": [
    {
     "name": "stdout",
     "output_type": "stream",
     "text": [
      "<class 'pandas.core.frame.DataFrame'>\n",
      "Int64Index: 579 entries, 0 to 582\n",
      "Data columns (total 11 columns):\n",
      " #   Column     Non-Null Count  Dtype  \n",
      "---  ------     --------------  -----  \n",
      " 0   Age        579 non-null    int64  \n",
      " 1   Gender     579 non-null    object \n",
      " 2   TB         579 non-null    float64\n",
      " 3   DB         579 non-null    float64\n",
      " 4   Alkphos    579 non-null    int64  \n",
      " 5   Sgpt       579 non-null    int64  \n",
      " 6   Sgot       579 non-null    int64  \n",
      " 7   TP         579 non-null    float64\n",
      " 8   ALB        579 non-null    float64\n",
      " 9   A/G Ratio  579 non-null    float64\n",
      " 10  Selector   579 non-null    int64  \n",
      "dtypes: float64(5), int64(5), object(1)\n",
      "memory usage: 54.3+ KB\n"
     ]
    }
   ],
   "source": [
    "df.info()"
   ]
  },
  {
   "cell_type": "code",
   "execution_count": 7,
   "id": "537e9e46-dc89-40a8-ae09-00b5e8dc9e25",
   "metadata": {},
   "outputs": [
    {
     "data": {
      "text/plain": [
       "Index(['Age', 'Gender', 'TB', 'DB', 'Alkphos', 'Sgpt', 'Sgot', 'TP', 'ALB',\n",
       "       'A/G Ratio', 'Selector'],\n",
       "      dtype='object')"
      ]
     },
     "execution_count": 7,
     "metadata": {},
     "output_type": "execute_result"
    }
   ],
   "source": [
    "df.columns"
   ]
  },
  {
   "cell_type": "code",
   "execution_count": 8,
   "id": "3982c833-52c5-450e-9ec7-ee3395fdcef8",
   "metadata": {},
   "outputs": [
    {
     "data": {
      "text/plain": [
       "(579, 11)"
      ]
     },
     "execution_count": 8,
     "metadata": {},
     "output_type": "execute_result"
    }
   ],
   "source": [
    "df.shape"
   ]
  },
  {
   "cell_type": "code",
   "execution_count": 9,
   "id": "6ebdd64e-de51-400c-8dc4-f47c7f85efaf",
   "metadata": {},
   "outputs": [
    {
     "data": {
      "text/html": [
       "<div>\n",
       "<style scoped>\n",
       "    .dataframe tbody tr th:only-of-type {\n",
       "        vertical-align: middle;\n",
       "    }\n",
       "\n",
       "    .dataframe tbody tr th {\n",
       "        vertical-align: top;\n",
       "    }\n",
       "\n",
       "    .dataframe thead th {\n",
       "        text-align: right;\n",
       "    }\n",
       "</style>\n",
       "<table border=\"1\" class=\"dataframe\">\n",
       "  <thead>\n",
       "    <tr style=\"text-align: right;\">\n",
       "      <th></th>\n",
       "      <th>Age</th>\n",
       "      <th>TB</th>\n",
       "      <th>DB</th>\n",
       "      <th>Alkphos</th>\n",
       "      <th>Sgpt</th>\n",
       "      <th>Sgot</th>\n",
       "      <th>TP</th>\n",
       "      <th>ALB</th>\n",
       "      <th>A/G Ratio</th>\n",
       "      <th>Selector</th>\n",
       "    </tr>\n",
       "  </thead>\n",
       "  <tbody>\n",
       "    <tr>\n",
       "      <th>count</th>\n",
       "      <td>579.000000</td>\n",
       "      <td>579.000000</td>\n",
       "      <td>579.000000</td>\n",
       "      <td>579.000000</td>\n",
       "      <td>579.000000</td>\n",
       "      <td>579.000000</td>\n",
       "      <td>579.000000</td>\n",
       "      <td>579.000000</td>\n",
       "      <td>579.000000</td>\n",
       "      <td>579.000000</td>\n",
       "    </tr>\n",
       "    <tr>\n",
       "      <th>mean</th>\n",
       "      <td>44.782383</td>\n",
       "      <td>3.315371</td>\n",
       "      <td>1.494128</td>\n",
       "      <td>291.366149</td>\n",
       "      <td>81.126079</td>\n",
       "      <td>110.414508</td>\n",
       "      <td>6.481693</td>\n",
       "      <td>3.138515</td>\n",
       "      <td>0.947064</td>\n",
       "      <td>1.284974</td>\n",
       "    </tr>\n",
       "    <tr>\n",
       "      <th>std</th>\n",
       "      <td>16.221786</td>\n",
       "      <td>6.227716</td>\n",
       "      <td>2.816499</td>\n",
       "      <td>243.561863</td>\n",
       "      <td>183.182845</td>\n",
       "      <td>289.850034</td>\n",
       "      <td>1.084641</td>\n",
       "      <td>0.794435</td>\n",
       "      <td>0.319592</td>\n",
       "      <td>0.451792</td>\n",
       "    </tr>\n",
       "    <tr>\n",
       "      <th>min</th>\n",
       "      <td>4.000000</td>\n",
       "      <td>0.400000</td>\n",
       "      <td>0.100000</td>\n",
       "      <td>63.000000</td>\n",
       "      <td>10.000000</td>\n",
       "      <td>10.000000</td>\n",
       "      <td>2.700000</td>\n",
       "      <td>0.900000</td>\n",
       "      <td>0.300000</td>\n",
       "      <td>1.000000</td>\n",
       "    </tr>\n",
       "    <tr>\n",
       "      <th>25%</th>\n",
       "      <td>33.000000</td>\n",
       "      <td>0.800000</td>\n",
       "      <td>0.200000</td>\n",
       "      <td>175.500000</td>\n",
       "      <td>23.000000</td>\n",
       "      <td>25.000000</td>\n",
       "      <td>5.800000</td>\n",
       "      <td>2.600000</td>\n",
       "      <td>0.700000</td>\n",
       "      <td>1.000000</td>\n",
       "    </tr>\n",
       "    <tr>\n",
       "      <th>50%</th>\n",
       "      <td>45.000000</td>\n",
       "      <td>1.000000</td>\n",
       "      <td>0.300000</td>\n",
       "      <td>208.000000</td>\n",
       "      <td>35.000000</td>\n",
       "      <td>42.000000</td>\n",
       "      <td>6.600000</td>\n",
       "      <td>3.100000</td>\n",
       "      <td>0.930000</td>\n",
       "      <td>1.000000</td>\n",
       "    </tr>\n",
       "    <tr>\n",
       "      <th>75%</th>\n",
       "      <td>58.000000</td>\n",
       "      <td>2.600000</td>\n",
       "      <td>1.300000</td>\n",
       "      <td>298.000000</td>\n",
       "      <td>61.000000</td>\n",
       "      <td>87.000000</td>\n",
       "      <td>7.200000</td>\n",
       "      <td>3.800000</td>\n",
       "      <td>1.100000</td>\n",
       "      <td>2.000000</td>\n",
       "    </tr>\n",
       "    <tr>\n",
       "      <th>max</th>\n",
       "      <td>90.000000</td>\n",
       "      <td>75.000000</td>\n",
       "      <td>19.700000</td>\n",
       "      <td>2110.000000</td>\n",
       "      <td>2000.000000</td>\n",
       "      <td>4929.000000</td>\n",
       "      <td>9.600000</td>\n",
       "      <td>5.500000</td>\n",
       "      <td>2.800000</td>\n",
       "      <td>2.000000</td>\n",
       "    </tr>\n",
       "  </tbody>\n",
       "</table>\n",
       "</div>"
      ],
      "text/plain": [
       "              Age          TB          DB      Alkphos         Sgpt  \\\n",
       "count  579.000000  579.000000  579.000000   579.000000   579.000000   \n",
       "mean    44.782383    3.315371    1.494128   291.366149    81.126079   \n",
       "std     16.221786    6.227716    2.816499   243.561863   183.182845   \n",
       "min      4.000000    0.400000    0.100000    63.000000    10.000000   \n",
       "25%     33.000000    0.800000    0.200000   175.500000    23.000000   \n",
       "50%     45.000000    1.000000    0.300000   208.000000    35.000000   \n",
       "75%     58.000000    2.600000    1.300000   298.000000    61.000000   \n",
       "max     90.000000   75.000000   19.700000  2110.000000  2000.000000   \n",
       "\n",
       "              Sgot          TP         ALB   A/G Ratio    Selector  \n",
       "count   579.000000  579.000000  579.000000  579.000000  579.000000  \n",
       "mean    110.414508    6.481693    3.138515    0.947064    1.284974  \n",
       "std     289.850034    1.084641    0.794435    0.319592    0.451792  \n",
       "min      10.000000    2.700000    0.900000    0.300000    1.000000  \n",
       "25%      25.000000    5.800000    2.600000    0.700000    1.000000  \n",
       "50%      42.000000    6.600000    3.100000    0.930000    1.000000  \n",
       "75%      87.000000    7.200000    3.800000    1.100000    2.000000  \n",
       "max    4929.000000    9.600000    5.500000    2.800000    2.000000  "
      ]
     },
     "execution_count": 9,
     "metadata": {},
     "output_type": "execute_result"
    }
   ],
   "source": [
    "df.describe()"
   ]
  },
  {
   "cell_type": "code",
   "execution_count": 10,
   "id": "23f5ad68-fa4d-4446-851c-e3470382f0fb",
   "metadata": {},
   "outputs": [
    {
     "name": "stderr",
     "output_type": "stream",
     "text": [
      "/tmp/ipykernel_841/4277794465.py:1: FutureWarning: The default value of numeric_only in DataFrame.corr is deprecated. In a future version, it will default to False. Select only valid columns or specify the value of numeric_only to silence this warning.\n",
      "  sns.heatmap(df.corr(),annot=True)\n"
     ]
    },
    {
     "data": {
      "text/plain": [
       "<AxesSubplot: >"
      ]
     },
     "execution_count": 10,
     "metadata": {},
     "output_type": "execute_result"
    },
    {
     "data": {
      "image/png": "[encoded data removed]",
      "text/plain": [
       "<Figure size 640x480 with 2 Axes>"
      ]
     },
     "metadata": {},
     "output_type": "display_data"
    }
   ],
   "source": [
    "sns.heatmap(df.corr(),annot=True)"
   ]
  },
  {
   "cell_type": "code",
   "execution_count": 11,
   "id": "10f5f3b3-f9fc-41c2-bf63-50ac93c39fae",
   "metadata": {},
   "outputs": [],
   "source": [
    "df['Gender']=df['Gender'].replace({'Male':0,'Female':1})"
   ]
  },
  {
   "cell_type": "code",
   "execution_count": 12,
   "id": "383f3282-aa68-4e70-8b78-06d2aa82171c",
   "metadata": {},
   "outputs": [
    {
     "data": {
      "text/plain": [
       "Age            int64\n",
       "Gender         int64\n",
       "TB           float64\n",
       "DB           float64\n",
       "Alkphos        int64\n",
       "Sgpt           int64\n",
       "Sgot           int64\n",
       "TP           float64\n",
       "ALB          float64\n",
       "A/G Ratio    float64\n",
       "Selector       int64\n",
       "dtype: object"
      ]
     },
     "execution_count": 12,
     "metadata": {},
     "output_type": "execute_result"
    }
   ],
   "source": [
    "df.dtypes"
   ]
  },
  {
   "cell_type": "code",
   "execution_count": 13,
   "id": "d074b576-d59f-489f-91f9-10f9655f3359",
   "metadata": {},
   "outputs": [
    {
     "data": {
      "text/html": [
       "<div>\n",
       "<style scoped>\n",
       "    .dataframe tbody tr th:only-of-type {\n",
       "        vertical-align: middle;\n",
       "    }\n",
       "\n",
       "    .dataframe tbody tr th {\n",
       "        vertical-align: top;\n",
       "    }\n",
       "\n",
       "    .dataframe thead th {\n",
       "        text-align: right;\n",
       "    }\n",
       "</style>\n",
       "<table border=\"1\" class=\"dataframe\">\n",
       "  <thead>\n",
       "    <tr style=\"text-align: right;\">\n",
       "      <th></th>\n",
       "      <th>Age</th>\n",
       "      <th>Gender</th>\n",
       "      <th>TB</th>\n",
       "      <th>DB</th>\n",
       "      <th>Alkphos</th>\n",
       "      <th>Sgpt</th>\n",
       "      <th>Sgot</th>\n",
       "      <th>TP</th>\n",
       "      <th>ALB</th>\n",
       "      <th>A/G Ratio</th>\n",
       "      <th>Selector</th>\n",
       "    </tr>\n",
       "  </thead>\n",
       "  <tbody>\n",
       "    <tr>\n",
       "      <th>0</th>\n",
       "      <td>65</td>\n",
       "      <td>1</td>\n",
       "      <td>0.7</td>\n",
       "      <td>0.1</td>\n",
       "      <td>187</td>\n",
       "      <td>16</td>\n",
       "      <td>18</td>\n",
       "      <td>6.8</td>\n",
       "      <td>3.3</td>\n",
       "      <td>0.90</td>\n",
       "      <td>1</td>\n",
       "    </tr>\n",
       "    <tr>\n",
       "      <th>1</th>\n",
       "      <td>62</td>\n",
       "      <td>0</td>\n",
       "      <td>10.9</td>\n",
       "      <td>5.5</td>\n",
       "      <td>699</td>\n",
       "      <td>64</td>\n",
       "      <td>100</td>\n",
       "      <td>7.5</td>\n",
       "      <td>3.2</td>\n",
       "      <td>0.74</td>\n",
       "      <td>1</td>\n",
       "    </tr>\n",
       "    <tr>\n",
       "      <th>2</th>\n",
       "      <td>62</td>\n",
       "      <td>0</td>\n",
       "      <td>7.3</td>\n",
       "      <td>4.1</td>\n",
       "      <td>490</td>\n",
       "      <td>60</td>\n",
       "      <td>68</td>\n",
       "      <td>7.0</td>\n",
       "      <td>3.3</td>\n",
       "      <td>0.89</td>\n",
       "      <td>1</td>\n",
       "    </tr>\n",
       "    <tr>\n",
       "      <th>3</th>\n",
       "      <td>58</td>\n",
       "      <td>0</td>\n",
       "      <td>1.0</td>\n",
       "      <td>0.4</td>\n",
       "      <td>182</td>\n",
       "      <td>14</td>\n",
       "      <td>20</td>\n",
       "      <td>6.8</td>\n",
       "      <td>3.4</td>\n",
       "      <td>1.00</td>\n",
       "      <td>1</td>\n",
       "    </tr>\n",
       "    <tr>\n",
       "      <th>4</th>\n",
       "      <td>72</td>\n",
       "      <td>0</td>\n",
       "      <td>3.9</td>\n",
       "      <td>2.0</td>\n",
       "      <td>195</td>\n",
       "      <td>27</td>\n",
       "      <td>59</td>\n",
       "      <td>7.3</td>\n",
       "      <td>2.4</td>\n",
       "      <td>0.40</td>\n",
       "      <td>1</td>\n",
       "    </tr>\n",
       "  </tbody>\n",
       "</table>\n",
       "</div>"
      ],
      "text/plain": [
       "   Age  Gender    TB   DB  Alkphos  Sgpt  Sgot   TP  ALB  A/G Ratio  Selector\n",
       "0   65       1   0.7  0.1      187    16    18  6.8  3.3       0.90         1\n",
       "1   62       0  10.9  5.5      699    64   100  7.5  3.2       0.74         1\n",
       "2   62       0   7.3  4.1      490    60    68  7.0  3.3       0.89         1\n",
       "3   58       0   1.0  0.4      182    14    20  6.8  3.4       1.00         1\n",
       "4   72       0   3.9  2.0      195    27    59  7.3  2.4       0.40         1"
      ]
     },
     "execution_count": 13,
     "metadata": {},
     "output_type": "execute_result"
    }
   ],
   "source": [
    "df.head()"
   ]
  },
  {
   "cell_type": "code",
   "execution_count": 14,
   "id": "774197af-d727-4e5c-b1be-9d4c7084e402",
   "metadata": {},
   "outputs": [],
   "source": [
    "x=df.drop('Selector',axis=True) # dependent variable\n",
    "y=df['Selector'] #independent variable"
   ]
  },
  {
   "cell_type": "code",
   "execution_count": 15,
   "id": "325a89e5-b6c8-41bb-b95a-18a3bba31aae",
   "metadata": {},
   "outputs": [],
   "source": [
    "from sklearn.model_selection import train_test_split\n"
   ]
  },
  {
   "cell_type": "code",
   "execution_count": 16,
   "id": "82950f52-76d2-4444-9f6b-253a94d366de",
   "metadata": {},
   "outputs": [],
   "source": [
    "X_train, X_test, y_train, y_test=train_test_split(x,y,test_size=0.25,random_state=36)"
   ]
  },
  {
   "cell_type": "code",
   "execution_count": 17,
   "id": "5e69645d-8efa-40f0-b89f-a31dc863fc48",
   "metadata": {},
   "outputs": [
    {
     "data": {
      "text/plain": [
       "((434, 10), (145, 10), (434,), (145,))"
      ]
     },
     "execution_count": 17,
     "metadata": {},
     "output_type": "execute_result"
    }
   ],
   "source": [
    "X_train.shape, X_test.shape, y_train.shape, y_test.shape "
   ]
  },
  {
   "cell_type": "code",
   "execution_count": 18,
   "id": "550f33e8-edf0-410d-9a8a-3c847a25ca3a",
   "metadata": {},
   "outputs": [],
   "source": [
    "from sklearn.preprocessing import StandardScaler\n",
    "scaler=StandardScaler()"
   ]
  },
  {
   "cell_type": "code",
   "execution_count": 19,
   "id": "6d716550-a86f-4d65-b168-b7091d041aef",
   "metadata": {},
   "outputs": [],
   "source": [
    "X_train=scaler.fit_transform(X_train)\n",
    "X_test=scaler.transform(X_test)"
   ]
  },
  {
   "cell_type": "code",
   "execution_count": 20,
   "id": "fceffb54-4c4e-4d11-8cae-aa91df8b21d3",
   "metadata": {},
   "outputs": [
    {
     "data": {
      "text/plain": [
       "array([[ 1.48003582,  1.7926495 , -0.4494595 , ...,  1.76174485,\n",
       "         2.23350226,  1.35337457],\n",
       "       [-2.58617089, -0.55783353, -0.43170045, ...,  1.39967677,\n",
       "         1.1094126 ,  0.16208654],\n",
       "       [-0.45923199, -0.55783353, -0.32514614, ..., -0.41066362,\n",
       "        -0.1395759 ,  0.16208654],\n",
       "       ...,\n",
       "       [ 1.79282095,  1.7926495 , -0.43170045, ...,  1.30915975,\n",
       "         1.1094126 ,  0.16208654],\n",
       "       [ 1.22980772, -0.55783353, -0.39618234, ...,  0.49450658,\n",
       "         0.98451375,  0.75773055],\n",
       "       [ 0.91702258, -0.55783353,  1.45075902, ..., -0.22962958,\n",
       "        -0.38937361, -0.43355748]])"
      ]
     },
     "execution_count": 20,
     "metadata": {},
     "output_type": "execute_result"
    }
   ],
   "source": [
    "X_train"
   ]
  },
  {
   "cell_type": "code",
   "execution_count": 21,
   "id": "ea48d351-8ee4-4f1d-9753-25594938cc9b",
   "metadata": {},
   "outputs": [],
   "source": [
    "from sklearn.svm import SVC\n",
    "clf=SVC()"
   ]
  },
  {
   "cell_type": "code",
   "execution_count": 22,
   "id": "12e51d42-2089-42d2-9b1f-fdb94885b093",
   "metadata": {},
   "outputs": [
    {
     "data": {
      "text/html": [
       "<style>#sk-container-id-1 {color: black;background-color: white;}#sk-container-id-1 pre{padding: 0;}#sk-container-id-1 div.sk-toggleable {background-color: white;}#sk-container-id-1 label.sk-toggleable__label {cursor: pointer;display: block;width: 100%;margin-bottom: 0;padding: 0.3em;box-sizing: border-box;text-align: center;}#sk-container-id-1 label.sk-toggleable__label-arrow:before {content: \"▸\";float: left;margin-right: 0.25em;color: #696969;}#sk-container-id-1 label.sk-toggleable__label-arrow:hover:before {color: black;}#sk-container-id-1 div.sk-estimator:hover label.sk-toggleable__label-arrow:before {color: black;}#sk-container-id-1 div.sk-toggleable__content {max-height: 0;max-width: 0;overflow: hidden;text-align: left;background-color: #f0f8ff;}#sk-container-id-1 div.sk-toggleable__content pre {margin: 0.2em;color: black;border-radius: 0.25em;background-color: #f0f8ff;}#sk-container-id-1 input.sk-toggleable__control:checked~div.sk-toggleable__content {max-height: 200px;max-width: 100%;overflow: auto;}#sk-container-id-1 input.sk-toggleable__control:checked~label.sk-toggleable__label-arrow:before {content: \"▾\";}#sk-container-id-1 div.sk-estimator input.sk-toggleable__control:checked~label.sk-toggleable__label {background-color: #d4ebff;}#sk-container-id-1 div.sk-label input.sk-toggleable__control:checked~label.sk-toggleable__label {background-color: #d4ebff;}#sk-container-id-1 input.sk-hidden--visually {border: 0;clip: rect(1px 1px 1px 1px);clip: rect(1px, 1px, 1px, 1px);height: 1px;margin: -1px;overflow: hidden;padding: 0;position: absolute;width: 1px;}#sk-container-id-1 div.sk-estimator {font-family: monospace;background-color: #f0f8ff;border: 1px dotted black;border-radius: 0.25em;box-sizing: border-box;margin-bottom: 0.5em;}#sk-container-id-1 div.sk-estimator:hover {background-color: #d4ebff;}#sk-container-id-1 div.sk-parallel-item::after {content: \"\";width: 100%;border-bottom: 1px solid gray;flex-grow: 1;}#sk-container-id-1 div.sk-label:hover label.sk-toggleable__label {background-color: #d4ebff;}#sk-container-id-1 div.sk-serial::before {content: \"\";position: absolute;border-left: 1px solid gray;box-sizing: border-box;top: 0;bottom: 0;left: 50%;z-index: 0;}#sk-container-id-1 div.sk-serial {display: flex;flex-direction: column;align-items: center;background-color: white;padding-right: 0.2em;padding-left: 0.2em;position: relative;}#sk-container-id-1 div.sk-item {position: relative;z-index: 1;}#sk-container-id-1 div.sk-parallel {display: flex;align-items: stretch;justify-content: center;background-color: white;position: relative;}#sk-container-id-1 div.sk-item::before, #sk-container-id-1 div.sk-parallel-item::before {content: \"\";position: absolute;border-left: 1px solid gray;box-sizing: border-box;top: 0;bottom: 0;left: 50%;z-index: -1;}#sk-container-id-1 div.sk-parallel-item {display: flex;flex-direction: column;z-index: 1;position: relative;background-color: white;}#sk-container-id-1 div.sk-parallel-item:first-child::after {align-self: flex-end;width: 50%;}#sk-container-id-1 div.sk-parallel-item:last-child::after {align-self: flex-start;width: 50%;}#sk-container-id-1 div.sk-parallel-item:only-child::after {width: 0;}#sk-container-id-1 div.sk-dashed-wrapped {border: 1px dashed gray;margin: 0 0.4em 0.5em 0.4em;box-sizing: border-box;padding-bottom: 0.4em;background-color: white;}#sk-container-id-1 div.sk-label label {font-family: monospace;font-weight: bold;display: inline-block;line-height: 1.2em;}#sk-container-id-1 div.sk-label-container {text-align: center;}#sk-container-id-1 div.sk-container {/* jupyter's `normalize.less` sets `[hidden] { display: none; }` but bootstrap.min.css set `[hidden] { display: none !important; }` so we also need the `!important` here to be able to override the default hidden behavior on the sphinx rendered scikit-learn.org. See: https://github.com/scikit-learn/scikit-learn/issues/21755 */display: inline-block !important;position: relative;}#sk-container-id-1 div.sk-text-repr-fallback {display: none;}</style><div id=\"sk-container-id-1\" class=\"sk-top-container\"><div class=\"sk-text-repr-fallback\"><pre>SVC()</pre><b>In a Jupyter environment, please rerun this cell to show the HTML representation or trust the notebook. <br />On GitHub, the HTML representation is unable to render, please try loading this page with nbviewer.org.</b></div><div class=\"sk-container\" hidden><div class=\"sk-item\"><div class=\"sk-estimator sk-toggleable\"><input class=\"sk-toggleable__control sk-hidden--visually\" id=\"sk-estimator-id-1\" type=\"checkbox\" checked><label for=\"sk-estimator-id-1\" class=\"sk-toggleable__label sk-toggleable__label-arrow\">SVC</label><div class=\"sk-toggleable__content\"><pre>SVC()</pre></div></div></div></div></div>"
      ],
      "text/plain": [
       "SVC()"
      ]
     },
     "execution_count": 22,
     "metadata": {},
     "output_type": "execute_result"
    }
   ],
   "source": [
    "clf.fit(X_train,y_train)"
   ]
  },
  {
   "cell_type": "code",
   "execution_count": 23,
   "id": "68f1b072-022a-41e2-937c-70bf4d921871",
   "metadata": {},
   "outputs": [],
   "source": [
    "y_pred=clf.predict(X_test)"
   ]
  },
  {
   "cell_type": "code",
   "execution_count": 24,
   "id": "2b108790-b4e0-4858-834a-fdc0ac9413ff",
   "metadata": {},
   "outputs": [],
   "source": [
    "from sklearn.metrics import classification_report,accuracy_score,confusion_matrix\n"
   ]
  },
  {
   "cell_type": "code",
   "execution_count": 25,
   "id": "a8d214e3-3cf9-4b93-b84d-72fdd1a0b216",
   "metadata": {},
   "outputs": [
    {
     "name": "stdout",
     "output_type": "stream",
     "text": [
      "accuracy is:  0.7448275862068966\n"
     ]
    }
   ],
   "source": [
    "print('accuracy is: ',accuracy_score(y_test,y_pred))"
   ]
  },
  {
   "cell_type": "code",
   "execution_count": 26,
   "id": "a4a13ff8-8c95-4e69-b140-5b0505748630",
   "metadata": {},
   "outputs": [
    {
     "name": "stdout",
     "output_type": "stream",
     "text": [
      "confusion matrix is:  [[108   0]\n",
      " [ 37   0]]\n",
      "classification report is:                precision    recall  f1-score   support\n",
      "\n",
      "           1       0.74      1.00      0.85       108\n",
      "           2       0.00      0.00      0.00        37\n",
      "\n",
      "    accuracy                           0.74       145\n",
      "   macro avg       0.37      0.50      0.43       145\n",
      "weighted avg       0.55      0.74      0.64       145\n",
      "\n"
     ]
    },
    {
     "name": "stderr",
     "output_type": "stream",
     "text": [
      "/opt/conda/lib/python3.10/site-packages/sklearn/metrics/_classification.py:1344: UndefinedMetricWarning: Precision and F-score are ill-defined and being set to 0.0 in labels with no predicted samples. Use `zero_division` parameter to control this behavior.\n",
      "  _warn_prf(average, modifier, msg_start, len(result))\n",
      "/opt/conda/lib/python3.10/site-packages/sklearn/metrics/_classification.py:1344: UndefinedMetricWarning: Precision and F-score are ill-defined and being set to 0.0 in labels with no predicted samples. Use `zero_division` parameter to control this behavior.\n",
      "  _warn_prf(average, modifier, msg_start, len(result))\n",
      "/opt/conda/lib/python3.10/site-packages/sklearn/metrics/_classification.py:1344: UndefinedMetricWarning: Precision and F-score are ill-defined and being set to 0.0 in labels with no predicted samples. Use `zero_division` parameter to control this behavior.\n",
      "  _warn_prf(average, modifier, msg_start, len(result))\n"
     ]
    }
   ],
   "source": [
    "print('confusion matrix is: ',confusion_matrix(y_test,y_pred))\n",
    "print('classification report is: ',classification_report(y_test,y_pred))"
   ]
  },
  {
   "cell_type": "code",
   "execution_count": 30,
   "id": "b7df8127-88e3-4ec0-a92c-cd4b1f385211",
   "metadata": {},
   "outputs": [],
   "source": [
    "from sklearn.model_selection import GridSearchCV\n",
    "parameters={'kernel':['poly','rbf','sigmoid','linear'],\n",
    "           'C':[1,2,3],\n",
    "           'gamma':['scale','auto']}\n"
   ]
  },
  {
   "cell_type": "code",
   "execution_count": 31,
   "id": "c172eeeb-aa00-4f20-94c7-e95ba3115ccf",
   "metadata": {},
   "outputs": [],
   "source": [
    "grid=GridSearchCV(clf,param_grid=parameters,scoring='accuracy',verbose=3,cv=5)"
   ]
  },
  {
   "cell_type": "code",
   "execution_count": 32,
   "id": "823f7f72-73f7-4672-947d-b7cd8df4386c",
   "metadata": {},
   "outputs": [
    {
     "name": "stdout",
     "output_type": "stream",
     "text": [
      "Fitting 5 folds for each of 24 candidates, totalling 120 fits\n",
      "[CV 1/5] END .....C=1, gamma=scale, kernel=poly;, score=0.678 total time=   0.0s\n",
      "[CV 2/5] END .....C=1, gamma=scale, kernel=poly;, score=0.667 total time=   0.0s\n",
      "[CV 3/5] END .....C=1, gamma=scale, kernel=poly;, score=0.655 total time=   0.0s\n",
      "[CV 4/5] END .....C=1, gamma=scale, kernel=poly;, score=0.701 total time=   0.0s\n",
      "[CV 5/5] END .....C=1, gamma=scale, kernel=poly;, score=0.698 total time=   0.0s\n",
      "[CV 1/5] END ......C=1, gamma=scale, kernel=rbf;, score=0.701 total time=   0.0s\n",
      "[CV 2/5] END ......C=1, gamma=scale, kernel=rbf;, score=0.701 total time=   0.0s\n",
      "[CV 3/5] END ......C=1, gamma=scale, kernel=rbf;, score=0.701 total time=   0.0s\n",
      "[CV 4/5] END ......C=1, gamma=scale, kernel=rbf;, score=0.713 total time=   0.0s\n",
      "[CV 5/5] END ......C=1, gamma=scale, kernel=rbf;, score=0.709 total time=   0.0s\n",
      "[CV 1/5] END ..C=1, gamma=scale, kernel=sigmoid;, score=0.713 total time=   0.0s\n",
      "[CV 2/5] END ..C=1, gamma=scale, kernel=sigmoid;, score=0.690 total time=   0.0s\n",
      "[CV 3/5] END ..C=1, gamma=scale, kernel=sigmoid;, score=0.701 total time=   0.0s\n",
      "[CV 4/5] END ..C=1, gamma=scale, kernel=sigmoid;, score=0.701 total time=   0.0s\n",
      "[CV 5/5] END ..C=1, gamma=scale, kernel=sigmoid;, score=0.721 total time=   0.0s\n",
      "[CV 1/5] END ...C=1, gamma=scale, kernel=linear;, score=0.701 total time=   0.0s\n",
      "[CV 2/5] END ...C=1, gamma=scale, kernel=linear;, score=0.701 total time=   0.0s\n",
      "[CV 3/5] END ...C=1, gamma=scale, kernel=linear;, score=0.701 total time=   0.0s\n",
      "[CV 4/5] END ...C=1, gamma=scale, kernel=linear;, score=0.713 total time=   0.0s\n",
      "[CV 5/5] END ...C=1, gamma=scale, kernel=linear;, score=0.709 total time=   0.0s\n",
      "[CV 1/5] END ......C=1, gamma=auto, kernel=poly;, score=0.667 total time=   0.0s\n",
      "[CV 2/5] END ......C=1, gamma=auto, kernel=poly;, score=0.667 total time=   0.0s\n",
      "[CV 3/5] END ......C=1, gamma=auto, kernel=poly;, score=0.655 total time=   0.0s\n",
      "[CV 4/5] END ......C=1, gamma=auto, kernel=poly;, score=0.713 total time=   0.0s\n",
      "[CV 5/5] END ......C=1, gamma=auto, kernel=poly;, score=0.698 total time=   0.0s\n",
      "[CV 1/5] END .......C=1, gamma=auto, kernel=rbf;, score=0.690 total time=   0.0s\n",
      "[CV 2/5] END .......C=1, gamma=auto, kernel=rbf;, score=0.701 total time=   0.0s\n",
      "[CV 3/5] END .......C=1, gamma=auto, kernel=rbf;, score=0.690 total time=   0.0s\n",
      "[CV 4/5] END .......C=1, gamma=auto, kernel=rbf;, score=0.713 total time=   0.0s\n",
      "[CV 5/5] END .......C=1, gamma=auto, kernel=rbf;, score=0.709 total time=   0.0s\n",
      "[CV 1/5] END ...C=1, gamma=auto, kernel=sigmoid;, score=0.724 total time=   0.0s\n",
      "[CV 2/5] END ...C=1, gamma=auto, kernel=sigmoid;, score=0.690 total time=   0.0s\n",
      "[CV 3/5] END ...C=1, gamma=auto, kernel=sigmoid;, score=0.701 total time=   0.0s\n",
      "[CV 4/5] END ...C=1, gamma=auto, kernel=sigmoid;, score=0.713 total time=   0.0s\n",
      "[CV 5/5] END ...C=1, gamma=auto, kernel=sigmoid;, score=0.721 total time=   0.0s\n",
      "[CV 1/5] END ....C=1, gamma=auto, kernel=linear;, score=0.701 total time=   0.0s\n",
      "[CV 2/5] END ....C=1, gamma=auto, kernel=linear;, score=0.701 total time=   0.0s\n",
      "[CV 3/5] END ....C=1, gamma=auto, kernel=linear;, score=0.701 total time=   0.0s\n",
      "[CV 4/5] END ....C=1, gamma=auto, kernel=linear;, score=0.713 total time=   0.0s\n",
      "[CV 5/5] END ....C=1, gamma=auto, kernel=linear;, score=0.709 total time=   0.0s\n",
      "[CV 1/5] END .....C=2, gamma=scale, kernel=poly;, score=0.667 total time=   0.0s\n",
      "[CV 2/5] END .....C=2, gamma=scale, kernel=poly;, score=0.667 total time=   0.0s\n",
      "[CV 3/5] END .....C=2, gamma=scale, kernel=poly;, score=0.667 total time=   0.0s\n",
      "[CV 4/5] END .....C=2, gamma=scale, kernel=poly;, score=0.713 total time=   0.0s\n",
      "[CV 5/5] END .....C=2, gamma=scale, kernel=poly;, score=0.709 total time=   0.0s\n",
      "[CV 1/5] END ......C=2, gamma=scale, kernel=rbf;, score=0.632 total time=   0.0s\n",
      "[CV 2/5] END ......C=2, gamma=scale, kernel=rbf;, score=0.655 total time=   0.0s\n",
      "[CV 3/5] END ......C=2, gamma=scale, kernel=rbf;, score=0.667 total time=   0.0s\n",
      "[CV 4/5] END ......C=2, gamma=scale, kernel=rbf;, score=0.690 total time=   0.0s\n",
      "[CV 5/5] END ......C=2, gamma=scale, kernel=rbf;, score=0.709 total time=   0.0s\n",
      "[CV 1/5] END ..C=2, gamma=scale, kernel=sigmoid;, score=0.736 total time=   0.0s\n",
      "[CV 2/5] END ..C=2, gamma=scale, kernel=sigmoid;, score=0.690 total time=   0.0s\n",
      "[CV 3/5] END ..C=2, gamma=scale, kernel=sigmoid;, score=0.667 total time=   0.0s\n",
      "[CV 4/5] END ..C=2, gamma=scale, kernel=sigmoid;, score=0.632 total time=   0.0s\n",
      "[CV 5/5] END ..C=2, gamma=scale, kernel=sigmoid;, score=0.721 total time=   0.0s\n",
      "[CV 1/5] END ...C=2, gamma=scale, kernel=linear;, score=0.701 total time=   0.0s\n",
      "[CV 2/5] END ...C=2, gamma=scale, kernel=linear;, score=0.701 total time=   0.0s\n",
      "[CV 3/5] END ...C=2, gamma=scale, kernel=linear;, score=0.701 total time=   0.0s\n",
      "[CV 4/5] END ...C=2, gamma=scale, kernel=linear;, score=0.713 total time=   0.0s\n",
      "[CV 5/5] END ...C=2, gamma=scale, kernel=linear;, score=0.709 total time=   0.0s\n",
      "[CV 1/5] END ......C=2, gamma=auto, kernel=poly;, score=0.644 total time=   0.0s\n",
      "[CV 2/5] END ......C=2, gamma=auto, kernel=poly;, score=0.655 total time=   0.0s\n",
      "[CV 3/5] END ......C=2, gamma=auto, kernel=poly;, score=0.667 total time=   0.0s\n",
      "[CV 4/5] END ......C=2, gamma=auto, kernel=poly;, score=0.701 total time=   0.0s\n",
      "[CV 5/5] END ......C=2, gamma=auto, kernel=poly;, score=0.709 total time=   0.0s\n",
      "[CV 1/5] END .......C=2, gamma=auto, kernel=rbf;, score=0.632 total time=   0.0s\n",
      "[CV 2/5] END .......C=2, gamma=auto, kernel=rbf;, score=0.655 total time=   0.0s\n",
      "[CV 3/5] END .......C=2, gamma=auto, kernel=rbf;, score=0.667 total time=   0.0s\n",
      "[CV 4/5] END .......C=2, gamma=auto, kernel=rbf;, score=0.713 total time=   0.0s\n",
      "[CV 5/5] END .......C=2, gamma=auto, kernel=rbf;, score=0.709 total time=   0.0s\n",
      "[CV 1/5] END ...C=2, gamma=auto, kernel=sigmoid;, score=0.747 total time=   0.0s\n",
      "[CV 2/5] END ...C=2, gamma=auto, kernel=sigmoid;, score=0.690 total time=   0.0s\n",
      "[CV 3/5] END ...C=2, gamma=auto, kernel=sigmoid;, score=0.690 total time=   0.0s\n",
      "[CV 4/5] END ...C=2, gamma=auto, kernel=sigmoid;, score=0.713 total time=   0.0s\n",
      "[CV 5/5] END ...C=2, gamma=auto, kernel=sigmoid;, score=0.767 total time=   0.0s\n",
      "[CV 1/5] END ....C=2, gamma=auto, kernel=linear;, score=0.701 total time=   0.0s\n",
      "[CV 2/5] END ....C=2, gamma=auto, kernel=linear;, score=0.701 total time=   0.0s\n",
      "[CV 3/5] END ....C=2, gamma=auto, kernel=linear;, score=0.701 total time=   0.0s\n",
      "[CV 4/5] END ....C=2, gamma=auto, kernel=linear;, score=0.713 total time=   0.0s\n",
      "[CV 5/5] END ....C=2, gamma=auto, kernel=linear;, score=0.709 total time=   0.0s\n",
      "[CV 1/5] END .....C=3, gamma=scale, kernel=poly;, score=0.644 total time=   0.0s\n",
      "[CV 2/5] END .....C=3, gamma=scale, kernel=poly;, score=0.644 total time=   0.0s\n",
      "[CV 3/5] END .....C=3, gamma=scale, kernel=poly;, score=0.644 total time=   0.0s\n",
      "[CV 4/5] END .....C=3, gamma=scale, kernel=poly;, score=0.701 total time=   0.0s\n",
      "[CV 5/5] END .....C=3, gamma=scale, kernel=poly;, score=0.698 total time=   0.0s\n",
      "[CV 1/5] END ......C=3, gamma=scale, kernel=rbf;, score=0.632 total time=   0.0s\n",
      "[CV 2/5] END ......C=3, gamma=scale, kernel=rbf;, score=0.655 total time=   0.0s\n",
      "[CV 3/5] END ......C=3, gamma=scale, kernel=rbf;, score=0.609 total time=   0.0s\n",
      "[CV 4/5] END ......C=3, gamma=scale, kernel=rbf;, score=0.701 total time=   0.0s\n",
      "[CV 5/5] END ......C=3, gamma=scale, kernel=rbf;, score=0.698 total time=   0.0s\n",
      "[CV 1/5] END ..C=3, gamma=scale, kernel=sigmoid;, score=0.736 total time=   0.0s\n",
      "[CV 2/5] END ..C=3, gamma=scale, kernel=sigmoid;, score=0.747 total time=   0.0s\n",
      "[CV 3/5] END ..C=3, gamma=scale, kernel=sigmoid;, score=0.690 total time=   0.0s\n",
      "[CV 4/5] END ..C=3, gamma=scale, kernel=sigmoid;, score=0.586 total time=   0.0s\n",
      "[CV 5/5] END ..C=3, gamma=scale, kernel=sigmoid;, score=0.663 total time=   0.0s\n",
      "[CV 1/5] END ...C=3, gamma=scale, kernel=linear;, score=0.701 total time=   0.0s\n",
      "[CV 2/5] END ...C=3, gamma=scale, kernel=linear;, score=0.701 total time=   0.0s\n",
      "[CV 3/5] END ...C=3, gamma=scale, kernel=linear;, score=0.701 total time=   0.0s\n",
      "[CV 4/5] END ...C=3, gamma=scale, kernel=linear;, score=0.713 total time=   0.0s\n",
      "[CV 5/5] END ...C=3, gamma=scale, kernel=linear;, score=0.709 total time=   0.0s\n",
      "[CV 1/5] END ......C=3, gamma=auto, kernel=poly;, score=0.644 total time=   0.0s\n",
      "[CV 2/5] END ......C=3, gamma=auto, kernel=poly;, score=0.644 total time=   0.0s\n",
      "[CV 3/5] END ......C=3, gamma=auto, kernel=poly;, score=0.644 total time=   0.0s\n",
      "[CV 4/5] END ......C=3, gamma=auto, kernel=poly;, score=0.713 total time=   0.0s\n",
      "[CV 5/5] END ......C=3, gamma=auto, kernel=poly;, score=0.698 total time=   0.0s\n",
      "[CV 1/5] END .......C=3, gamma=auto, kernel=rbf;, score=0.621 total time=   0.0s\n",
      "[CV 2/5] END .......C=3, gamma=auto, kernel=rbf;, score=0.644 total time=   0.0s\n",
      "[CV 3/5] END .......C=3, gamma=auto, kernel=rbf;, score=0.609 total time=   0.0s\n",
      "[CV 4/5] END .......C=3, gamma=auto, kernel=rbf;, score=0.678 total time=   0.0s\n",
      "[CV 5/5] END .......C=3, gamma=auto, kernel=rbf;, score=0.698 total time=   0.0s\n",
      "[CV 1/5] END ...C=3, gamma=auto, kernel=sigmoid;, score=0.747 total time=   0.0s\n",
      "[CV 2/5] END ...C=3, gamma=auto, kernel=sigmoid;, score=0.747 total time=   0.0s\n",
      "[CV 3/5] END ...C=3, gamma=auto, kernel=sigmoid;, score=0.678 total time=   0.0s\n",
      "[CV 4/5] END ...C=3, gamma=auto, kernel=sigmoid;, score=0.621 total time=   0.0s\n",
      "[CV 5/5] END ...C=3, gamma=auto, kernel=sigmoid;, score=0.651 total time=   0.0s\n",
      "[CV 1/5] END ....C=3, gamma=auto, kernel=linear;, score=0.701 total time=   0.0s\n",
      "[CV 2/5] END ....C=3, gamma=auto, kernel=linear;, score=0.701 total time=   0.0s\n",
      "[CV 3/5] END ....C=3, gamma=auto, kernel=linear;, score=0.701 total time=   0.0s\n",
      "[CV 4/5] END ....C=3, gamma=auto, kernel=linear;, score=0.713 total time=   0.0s\n",
      "[CV 5/5] END ....C=3, gamma=auto, kernel=linear;, score=0.709 total time=   0.0s\n"
     ]
    },
    {
     "data": {
      "text/html": [
       "<style>#sk-container-id-2 {color: black;background-color: white;}#sk-container-id-2 pre{padding: 0;}#sk-container-id-2 div.sk-toggleable {background-color: white;}#sk-container-id-2 label.sk-toggleable__label {cursor: pointer;display: block;width: 100%;margin-bottom: 0;padding: 0.3em;box-sizing: border-box;text-align: center;}#sk-container-id-2 label.sk-toggleable__label-arrow:before {content: \"▸\";float: left;margin-right: 0.25em;color: #696969;}#sk-container-id-2 label.sk-toggleable__label-arrow:hover:before {color: black;}#sk-container-id-2 div.sk-estimator:hover label.sk-toggleable__label-arrow:before {color: black;}#sk-container-id-2 div.sk-toggleable__content {max-height: 0;max-width: 0;overflow: hidden;text-align: left;background-color: #f0f8ff;}#sk-container-id-2 div.sk-toggleable__content pre {margin: 0.2em;color: black;border-radius: 0.25em;background-color: #f0f8ff;}#sk-container-id-2 input.sk-toggleable__control:checked~div.sk-toggleable__content {max-height: 200px;max-width: 100%;overflow: auto;}#sk-container-id-2 input.sk-toggleable__control:checked~label.sk-toggleable__label-arrow:before {content: \"▾\";}#sk-container-id-2 div.sk-estimator input.sk-toggleable__control:checked~label.sk-toggleable__label {background-color: #d4ebff;}#sk-container-id-2 div.sk-label input.sk-toggleable__control:checked~label.sk-toggleable__label {background-color: #d4ebff;}#sk-container-id-2 input.sk-hidden--visually {border: 0;clip: rect(1px 1px 1px 1px);clip: rect(1px, 1px, 1px, 1px);height: 1px;margin: -1px;overflow: hidden;padding: 0;position: absolute;width: 1px;}#sk-container-id-2 div.sk-estimator {font-family: monospace;background-color: #f0f8ff;border: 1px dotted black;border-radius: 0.25em;box-sizing: border-box;margin-bottom: 0.5em;}#sk-container-id-2 div.sk-estimator:hover {background-color: #d4ebff;}#sk-container-id-2 div.sk-parallel-item::after {content: \"\";width: 100%;border-bottom: 1px solid gray;flex-grow: 1;}#sk-container-id-2 div.sk-label:hover label.sk-toggleable__label {background-color: #d4ebff;}#sk-container-id-2 div.sk-serial::before {content: \"\";position: absolute;border-left: 1px solid gray;box-sizing: border-box;top: 0;bottom: 0;left: 50%;z-index: 0;}#sk-container-id-2 div.sk-serial {display: flex;flex-direction: column;align-items: center;background-color: white;padding-right: 0.2em;padding-left: 0.2em;position: relative;}#sk-container-id-2 div.sk-item {position: relative;z-index: 1;}#sk-container-id-2 div.sk-parallel {display: flex;align-items: stretch;justify-content: center;background-color: white;position: relative;}#sk-container-id-2 div.sk-item::before, #sk-container-id-2 div.sk-parallel-item::before {content: \"\";position: absolute;border-left: 1px solid gray;box-sizing: border-box;top: 0;bottom: 0;left: 50%;z-index: -1;}#sk-container-id-2 div.sk-parallel-item {display: flex;flex-direction: column;z-index: 1;position: relative;background-color: white;}#sk-container-id-2 div.sk-parallel-item:first-child::after {align-self: flex-end;width: 50%;}#sk-container-id-2 div.sk-parallel-item:last-child::after {align-self: flex-start;width: 50%;}#sk-container-id-2 div.sk-parallel-item:only-child::after {width: 0;}#sk-container-id-2 div.sk-dashed-wrapped {border: 1px dashed gray;margin: 0 0.4em 0.5em 0.4em;box-sizing: border-box;padding-bottom: 0.4em;background-color: white;}#sk-container-id-2 div.sk-label label {font-family: monospace;font-weight: bold;display: inline-block;line-height: 1.2em;}#sk-container-id-2 div.sk-label-container {text-align: center;}#sk-container-id-2 div.sk-container {/* jupyter's `normalize.less` sets `[hidden] { display: none; }` but bootstrap.min.css set `[hidden] { display: none !important; }` so we also need the `!important` here to be able to override the default hidden behavior on the sphinx rendered scikit-learn.org. See: https://github.com/scikit-learn/scikit-learn/issues/21755 */display: inline-block !important;position: relative;}#sk-container-id-2 div.sk-text-repr-fallback {display: none;}</style><div id=\"sk-container-id-2\" class=\"sk-top-container\"><div class=\"sk-text-repr-fallback\"><pre>GridSearchCV(cv=5, estimator=SVC(),\n",
       "             param_grid={&#x27;C&#x27;: [1, 2, 3], &#x27;gamma&#x27;: [&#x27;scale&#x27;, &#x27;auto&#x27;],\n",
       "                         &#x27;kernel&#x27;: [&#x27;poly&#x27;, &#x27;rbf&#x27;, &#x27;sigmoid&#x27;, &#x27;linear&#x27;]},\n",
       "             scoring=&#x27;accuracy&#x27;, verbose=3)</pre><b>In a Jupyter environment, please rerun this cell to show the HTML representation or trust the notebook. <br />On GitHub, the HTML representation is unable to render, please try loading this page with nbviewer.org.</b></div><div class=\"sk-container\" hidden><div class=\"sk-item sk-dashed-wrapped\"><div class=\"sk-label-container\"><div class=\"sk-label sk-toggleable\"><input class=\"sk-toggleable__control sk-hidden--visually\" id=\"sk-estimator-id-2\" type=\"checkbox\" ><label for=\"sk-estimator-id-2\" class=\"sk-toggleable__label sk-toggleable__label-arrow\">GridSearchCV</label><div class=\"sk-toggleable__content\"><pre>GridSearchCV(cv=5, estimator=SVC(),\n",
       "             param_grid={&#x27;C&#x27;: [1, 2, 3], &#x27;gamma&#x27;: [&#x27;scale&#x27;, &#x27;auto&#x27;],\n",
       "                         &#x27;kernel&#x27;: [&#x27;poly&#x27;, &#x27;rbf&#x27;, &#x27;sigmoid&#x27;, &#x27;linear&#x27;]},\n",
       "             scoring=&#x27;accuracy&#x27;, verbose=3)</pre></div></div></div><div class=\"sk-parallel\"><div class=\"sk-parallel-item\"><div class=\"sk-item\"><div class=\"sk-label-container\"><div class=\"sk-label sk-toggleable\"><input class=\"sk-toggleable__control sk-hidden--visually\" id=\"sk-estimator-id-3\" type=\"checkbox\" ><label for=\"sk-estimator-id-3\" class=\"sk-toggleable__label sk-toggleable__label-arrow\">estimator: SVC</label><div class=\"sk-toggleable__content\"><pre>SVC()</pre></div></div></div><div class=\"sk-serial\"><div class=\"sk-item\"><div class=\"sk-estimator sk-toggleable\"><input class=\"sk-toggleable__control sk-hidden--visually\" id=\"sk-estimator-id-4\" type=\"checkbox\" ><label for=\"sk-estimator-id-4\" class=\"sk-toggleable__label sk-toggleable__label-arrow\">SVC</label><div class=\"sk-toggleable__content\"><pre>SVC()</pre></div></div></div></div></div></div></div></div></div></div>"
      ],
      "text/plain": [
       "GridSearchCV(cv=5, estimator=SVC(),\n",
       "             param_grid={'C': [1, 2, 3], 'gamma': ['scale', 'auto'],\n",
       "                         'kernel': ['poly', 'rbf', 'sigmoid', 'linear']},\n",
       "             scoring='accuracy', verbose=3)"
      ]
     },
     "execution_count": 32,
     "metadata": {},
     "output_type": "execute_result"
    }
   ],
   "source": [
    "grid.fit(X_train,y_train)"
   ]
  },
  {
   "cell_type": "code",
   "execution_count": 33,
   "id": "758b17fc-850d-4d76-b9fe-ee3837b98bca",
   "metadata": {},
   "outputs": [
    {
     "data": {
      "text/plain": [
       "{'C': 2, 'gamma': 'auto', 'kernel': 'sigmoid'}"
      ]
     },
     "execution_count": 33,
     "metadata": {},
     "output_type": "execute_result"
    }
   ],
   "source": [
    "grid.best_params_"
   ]
  },
  {
   "cell_type": "code",
   "execution_count": 34,
   "id": "11e211f2-3ee4-4510-8f79-e96bcccd2fcf",
   "metadata": {},
   "outputs": [],
   "source": [
    "y_predi=grid.predict(X_test)"
   ]
  },
  {
   "cell_type": "code",
   "execution_count": 35,
   "id": "d2f0099f-074e-4077-bbd1-78567d924e0b",
   "metadata": {},
   "outputs": [
    {
     "name": "stdout",
     "output_type": "stream",
     "text": [
      "accuracy is:  0.6896551724137931\n",
      "confusion matrix is:  [[94 14]\n",
      " [31  6]]\n",
      "classification report is:                precision    recall  f1-score   support\n",
      "\n",
      "           1       0.75      0.87      0.81       108\n",
      "           2       0.30      0.16      0.21        37\n",
      "\n",
      "    accuracy                           0.69       145\n",
      "   macro avg       0.53      0.52      0.51       145\n",
      "weighted avg       0.64      0.69      0.65       145\n",
      "\n"
     ]
    }
   ],
   "source": [
    "print('accuracy is: ',accuracy_score(y_test,y_predi))\n",
    "print('confusion matrix is: ',confusion_matrix(y_test,y_predi))\n",
    "print('classification report is: ',classification_report(y_test,y_predi))"
   ]
  },
  {
   "cell_type": "code",
   "execution_count": null,
   "id": "9b2cf0fe-0af3-4ec7-b36a-9d2b3a40d052",
   "metadata": {},
   "outputs": [],
   "source": []
  }
 ],
 "metadata": {
  "kernelspec": {
   "display_name": "Python 3 (ipykernel)",
   "language": "python",
   "name": "python3"
  },
  "language_info": {
   "codemirror_mode": {
    "name": "ipython",
    "version": 3
   },
   "file_extension": ".py",
   "mimetype": "text/x-python",
   "name": "python",
   "nbconvert_exporter": "python",
   "pygments_lexer": "ipython3",
   "version": "3.10.8"
  }
 },
 "nbformat": 4,
 "nbformat_minor": 5
}
